{
 "cells": [
  {
   "cell_type": "markdown",
   "id": "d72a61be-ab6e-442b-94bf-417b91bd01a7",
   "metadata": {},
   "source": [
    "# Iterative Archetypal Analysis on Intel Image Classification Data Set\n",
    "\n",
    "Author: Jonathan Yik Chang Ting\n",
    "\n",
    "Date: 12/03/24"
   ]
  },
  {
   "cell_type": "code",
   "execution_count": 6,
   "id": "ffb3c103-1311-4170-81ea-6437a8b3848f",
   "metadata": {},
   "outputs": [],
   "source": [
    "import os\n",
    "# import cv2\n",
    "import glob as gb\n",
    "# import random\n",
    "# import numpy as np\n",
    "from PIL import Image\n",
    "import matplotlib.pyplot as plt\n",
    "# import plotly.express as px\n",
    "# import requests\n",
    "# from io import BytesIO\n",
    "# import zipfile\n",
    "# import seaborn as sns\n",
    "\n",
    "import warnings\n",
    "warnings.filterwarnings('ignore')\n",
    "\n",
    "os.chdir('/scratch/q27/jt5911')"
   ]
  },
  {
   "cell_type": "code",
   "execution_count": 7,
   "id": "14bca43b-65cf-4800-a804-4111a2d13ab7",
   "metadata": {},
   "outputs": [
    {
     "ename": "FileNotFoundError",
     "evalue": "[Errno 2] No such file or directory: '/scratch/q27/jt5911/data/intel-image-classification/seg_train/seg_train'",
     "output_type": "error",
     "traceback": [
      "\u001b[0;31m---------------------------------------------------------------------------\u001b[0m",
      "\u001b[0;31mFileNotFoundError\u001b[0m                         Traceback (most recent call last)",
      "Cell \u001b[0;32mIn[7], line 11\u001b[0m\n\u001b[1;32m      9\u001b[0m trainImages \u001b[38;5;241m=\u001b[39m []\n\u001b[1;32m     10\u001b[0m trainLabels \u001b[38;5;241m=\u001b[39m []\n\u001b[0;32m---> 11\u001b[0m \u001b[38;5;28;01mfor\u001b[39;00m folder \u001b[38;5;129;01min\u001b[39;00m \u001b[43mos\u001b[49m\u001b[38;5;241;43m.\u001b[39;49m\u001b[43mlistdir\u001b[49m\u001b[43m(\u001b[49m\u001b[43mtrainFolder\u001b[49m\u001b[43m)\u001b[49m:\n\u001b[1;32m     12\u001b[0m     folderPath \u001b[38;5;241m=\u001b[39m os\u001b[38;5;241m.\u001b[39mpath\u001b[38;5;241m.\u001b[39mjoin(trainFolder, folder)\n\u001b[1;32m     13\u001b[0m     files \u001b[38;5;241m=\u001b[39m gb\u001b[38;5;241m.\u001b[39mglob(pathname\u001b[38;5;241m=\u001b[39mos\u001b[38;5;241m.\u001b[39mpath\u001b[38;5;241m.\u001b[39mjoin(folderPath, \u001b[38;5;124m'\u001b[39m\u001b[38;5;124m*.jpg\u001b[39m\u001b[38;5;124m'\u001b[39m))\n",
      "\u001b[0;31mFileNotFoundError\u001b[0m: [Errno 2] No such file or directory: '/scratch/q27/jt5911/data/intel-image-classification/seg_train/seg_train'"
     ]
    }
   ],
   "source": [
    "DATA_DIR = f\"{os.getcwd()}/data\"\n",
    "trainFolder = f\"{DATA_DIR}/intel-image-classification/seg_train/seg_train\"\n",
    "testFolder = f\"{DATA_DIR}/intel-image-classification/seg_train/seg_train\"\n",
    "\n",
    "labels = {'buildings': 0, 'forest': 1, 'glacier': 2, 'mountain': 3, 'sea': 4, 'street': 5}\n",
    "COMMON_SIZE = (224, 224)  # Common size for resizing\n",
    "\n",
    "# Load training data\n",
    "trainImages = []\n",
    "trainLabels = []\n",
    "for folder in os.listdir(trainFolder):\n",
    "    folderPath = os.path.join(trainFolder, folder)\n",
    "    files = gb.glob(pathname=os.path.join(folderPath, '*.jpg'))\n",
    "    for file in files:\n",
    "        image = Image.open(file)\n",
    "        image = image.resize(COMMON_SIZE)\n",
    "        trainImages.append(np.array(image))\n",
    "        trainLabels.append(labels.get(folder, -1))\n",
    "trainImages = np.array(trainImages)\n",
    "trainLabels = np.array(trainLabels)\n",
    "\n",
    "# Load testing data\n",
    "testImages = []\n",
    "testLabels = []\n",
    "for folder in os.listdir(testFolder):\n",
    "    folderPath = os.path.join(testFolder, folder)\n",
    "    files = gb.glob(pathname=os.path.join(folderPath, \"*.jpg\"))\n",
    "    for file in files:\n",
    "        image = Image.open(file)\n",
    "        image = image.resize(COMMON_SIZE)  # Resize image to a common size\n",
    "        testImages.append(np.array(image))\n",
    "        testLabels.append(labels.get(folder, -1))\n",
    "testImages = np.array(testImages)\n",
    "testLabels = np.array(testLabels)\n",
    "\n",
    "print(\"Number of items in the training set:\", len(trainImages))\n",
    "print(\"Number of items in the testing set:\", len(testImages))"
   ]
  },
  {
   "cell_type": "code",
   "execution_count": null,
   "id": "1f0ce6ff-31a3-413e-a526-e519a52fd6a5",
   "metadata": {},
   "outputs": [],
   "source": [
    "print(\"Shape of train_img:\", train_img.shape)\n",
    "print(\"Shape of train_lbl:\", train_lbl.shape)\n",
    "print(\"Shape of test_img:\", test_img.shape)\n",
    "print(\"Shape of test_lbl:\", test_lbl.shape)"
   ]
  },
  {
   "cell_type": "code",
   "execution_count": null,
   "id": "348bf5c3-5e3a-45eb-96f4-1197a1558b28",
   "metadata": {},
   "outputs": [],
   "source": []
  }
 ],
 "metadata": {
  "kernelspec": {
   "display_name": "Python 3 (ipykernel)",
   "language": "python",
   "name": "python3"
  },
  "language_info": {
   "codemirror_mode": {
    "name": "ipython",
    "version": 3
   },
   "file_extension": ".py",
   "mimetype": "text/x-python",
   "name": "python",
   "nbconvert_exporter": "python",
   "pygments_lexer": "ipython3",
   "version": "3.10.4"
  }
 },
 "nbformat": 4,
 "nbformat_minor": 5
}
